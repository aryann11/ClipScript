{
 "cells": [
  {
   "cell_type": "code",
   "execution_count": 2,
   "metadata": {},
   "outputs": [],
   "source": [
    "! pip -qqq install yt-dlp"
   ]
  },
  {
   "cell_type": "code",
   "execution_count": 3,
   "metadata": {},
   "outputs": [],
   "source": [
    "from yt_dlp import YoutubeDL\n",
    "import os \n",
    "import re "
   ]
  },
  {
   "cell_type": "code",
   "execution_count": 4,
   "metadata": {},
   "outputs": [],
   "source": [
    "class YouTubeAudioDownloader:\n",
    "    def __init__(self, output_folder):\n",
    "        self.output_folder = os.path.abspath(output_folder)\n",
    "        self.audio_files_dict = {}\n",
    "\n",
    "    def get_safe_filename(self, filename):\n",
    "        safe_filename = re.sub(r'[^\\w\\-.]', '_', filename)\n",
    "        safe_filename = re.sub(r'_+', '_', safe_filename)\n",
    "        safe_filename = safe_filename[:50].strip('_')\n",
    "        return safe_filename\n",
    "\n",
    "    def download_audio(self, video_url):\n",
    "        try:\n",
    "            ydl_opts = {\n",
    "                'format': 'bestaudio/best',\n",
    "                'postprocessors': [{\n",
    "                    'key': 'FFmpegExtractAudio',\n",
    "                    'preferredcodec': 'mp3',\n",
    "                    'preferredquality': '192',\n",
    "                }],\n",
    "                'outtmpl': os.path.join(self.output_folder, '%(title)s.%(ext)s'),\n",
    "            }\n",
    "\n",
    "            with YoutubeDL(ydl_opts) as ydl:\n",
    "                info = ydl.extract_info(video_url, download=True)\n",
    "                filename = ydl.prepare_filename(info)\n",
    "                base, ext = os.path.splitext(filename)\n",
    "                new_file = base + '.mp3'\n",
    "\n",
    "            print(f\"Audio file downloaded: {new_file}\")\n",
    "            self.audio_files_dict[video_url] = new_file\n",
    "            return new_file\n",
    "        except Exception as e:\n",
    "            print(f\"Error downloading audio from {video_url}: {str(e)}\")\n",
    "            return None\n",
    "\n",
    "    def download_multiple_audios(self, video_urls):\n",
    "        for url in video_urls:\n",
    "            print(f\"Processing video: {url}\")\n",
    "            audio_file = self.download_audio(url)\n",
    "            if audio_file is None:\n",
    "                print(f\"Failed to download audio from video: {url}\")\n",
    "        return self.audio_files_dict"
   ]
  },
  {
   "cell_type": "code",
   "execution_count": 6,
   "metadata": {},
   "outputs": [],
   "source": [
    "\n"
   ]
  },
  {
   "cell_type": "code",
   "execution_count": 5,
   "metadata": {},
   "outputs": [
    {
     "name": "stdout",
     "output_type": "stream",
     "text": [
      "Processing video: https://www.youtube.com/watch?v=qP1JKWBBy80\n",
      "[youtube] Extracting URL: https://www.youtube.com/watch?v=qP1JKWBBy80\n",
      "[youtube] qP1JKWBBy80: Downloading webpage\n",
      "[youtube] qP1JKWBBy80: Downloading ios player API JSON\n",
      "[youtube] qP1JKWBBy80: Downloading mweb player API JSON\n",
      "[youtube] qP1JKWBBy80: Downloading m3u8 information\n",
      "[info] qP1JKWBBy80: Downloading 1 format(s): 251\n",
      "[download] C:\\GEN AI\\myenv1\\MULTIMODAL_RAG\\audio\\How to Invest with your Conscience： ESG Investing.webm has already been downloaded\n",
      "[download] 100% of    4.32MiB\n",
      "[ExtractAudio] Destination: C:\\GEN AI\\myenv1\\MULTIMODAL_RAG\\audio\\How to Invest with your Conscience： ESG Investing.mp3\n",
      "Deleting original file C:\\GEN AI\\myenv1\\MULTIMODAL_RAG\\audio\\How to Invest with your Conscience： ESG Investing.webm (pass -k to keep)\n",
      "Audio file downloaded: C:\\GEN AI\\myenv1\\MULTIMODAL_RAG\\audio\\How to Invest with your Conscience： ESG Investing.mp3\n",
      "Processing video: https://www.youtube.com/watch?v=_p58cZIHDG4\n",
      "[youtube] Extracting URL: https://www.youtube.com/watch?v=_p58cZIHDG4\n",
      "[youtube] _p58cZIHDG4: Downloading webpage\n",
      "[youtube] _p58cZIHDG4: Downloading ios player API JSON\n",
      "[youtube] _p58cZIHDG4: Downloading mweb player API JSON\n",
      "[youtube] _p58cZIHDG4: Downloading m3u8 information\n",
      "[info] _p58cZIHDG4: Downloading 1 format(s): 251\n",
      "[download] C:\\GEN AI\\myenv1\\MULTIMODAL_RAG\\audio\\ESG investing is 'a complete fraud'： Venture capitalist Chamath Palihapitiya.webm has already been downloaded\n",
      "[download] 100% of    2.01MiB\n",
      "[ExtractAudio] Destination: C:\\GEN AI\\myenv1\\MULTIMODAL_RAG\\audio\\ESG investing is 'a complete fraud'： Venture capitalist Chamath Palihapitiya.mp3\n",
      "Deleting original file C:\\GEN AI\\myenv1\\MULTIMODAL_RAG\\audio\\ESG investing is 'a complete fraud'： Venture capitalist Chamath Palihapitiya.webm (pass -k to keep)\n",
      "Audio file downloaded: C:\\GEN AI\\myenv1\\MULTIMODAL_RAG\\audio\\ESG investing is 'a complete fraud'： Venture capitalist Chamath Palihapitiya.mp3\n",
      "Downloaded audio files:\n",
      "https://www.youtube.com/watch?v=qP1JKWBBy80\n",
      "https://www.youtube.com/watch?v=_p58cZIHDG4\n"
     ]
    }
   ],
   "source": [
    "downloader = YouTubeAudioDownloader(output_folder=\"C://GEN AI//myenv1//MULTIMODAL_RAG//audio\")\n",
    "\n",
    "# List of video URLs\n",
    "video_urls = [\"https://www.youtube.com/watch?v=qP1JKWBBy80\",\n",
    "                \"https://www.youtube.com/watch?v=_p58cZIHDG4\"]\n",
    "\n",
    "# Download audios from multiple videos\n",
    "audio_files = downloader.download_multiple_audios(video_urls)\n",
    "\n",
    "print(\"Downloaded audio files:\")\n",
    "for audio_file in audio_files:\n",
    "    print(audio_file)\n"
   ]
  },
  {
   "cell_type": "code",
   "execution_count": 6,
   "metadata": {},
   "outputs": [
    {
     "data": {
      "text/plain": [
       "{'https://www.youtube.com/watch?v=qP1JKWBBy80': 'C:\\\\GEN AI\\\\myenv1\\\\MULTIMODAL_RAG\\\\audio\\\\How to Invest with your Conscience： ESG Investing.mp3',\n",
       " 'https://www.youtube.com/watch?v=_p58cZIHDG4': \"C:\\\\GEN AI\\\\myenv1\\\\MULTIMODAL_RAG\\\\audio\\\\ESG investing is 'a complete fraud'： Venture capitalist Chamath Palihapitiya.mp3\"}"
      ]
     },
     "execution_count": 6,
     "metadata": {},
     "output_type": "execute_result"
    }
   ],
   "source": [
    "audio_files"
   ]
  },
  {
   "cell_type": "code",
   "execution_count": 8,
   "metadata": {},
   "outputs": [],
   "source": [
    "# transcription generations with whisper \n"
   ]
  },
  {
   "cell_type": "code",
   "execution_count": 13,
   "metadata": {},
   "outputs": [
    {
     "name": "stdout",
     "output_type": "stream",
     "text": [
      "Collecting git+https://github.com/openai/whisper.git\n",
      "  Cloning https://github.com/openai/whisper.git to c:\\users\\hp\\appdata\\local\\temp\\pip-req-build-cz75k9ej\n",
      "  Resolved https://github.com/openai/whisper.git to commit 25639fc17ddc013d56c594bfbf7644f2185fad84\n",
      "  Installing build dependencies: started\n",
      "  Installing build dependencies: finished with status 'done'\n",
      "  Getting requirements to build wheel: started\n",
      "  Getting requirements to build wheel: finished with status 'done'\n",
      "  Preparing metadata (pyproject.toml): started\n",
      "  Preparing metadata (pyproject.toml): finished with status 'done'\n",
      "Collecting numba (from openai-whisper==20240930)\n",
      "  Using cached numba-0.60.0-cp312-cp312-win_amd64.whl.metadata (2.8 kB)\n",
      "Requirement already satisfied: numpy in d:\\gen ai\\myenv1\\lib\\site-packages (from openai-whisper==20240930) (2.1.2)\n",
      "Collecting torch (from openai-whisper==20240930)\n",
      "  Using cached torch-2.4.1-cp312-cp312-win_amd64.whl.metadata (27 kB)\n",
      "Collecting tqdm (from openai-whisper==20240930)\n",
      "  Using cached tqdm-4.66.5-py3-none-any.whl.metadata (57 kB)\n",
      "Collecting more-itertools (from openai-whisper==20240930)\n",
      "  Using cached more_itertools-10.5.0-py3-none-any.whl.metadata (36 kB)\n",
      "Collecting tiktoken (from openai-whisper==20240930)\n",
      "  Using cached tiktoken-0.8.0-cp312-cp312-win_amd64.whl.metadata (6.8 kB)\n",
      "Collecting llvmlite<0.44,>=0.43.0dev0 (from numba->openai-whisper==20240930)\n",
      "  Using cached llvmlite-0.43.0-cp312-cp312-win_amd64.whl.metadata (4.9 kB)\n",
      "Collecting numpy (from openai-whisper==20240930)\n",
      "  Using cached numpy-2.0.2-cp312-cp312-win_amd64.whl.metadata (59 kB)\n",
      "Collecting regex>=2022.1.18 (from tiktoken->openai-whisper==20240930)\n",
      "  Using cached regex-2024.9.11-cp312-cp312-win_amd64.whl.metadata (41 kB)\n",
      "Requirement already satisfied: requests>=2.26.0 in d:\\gen ai\\myenv1\\lib\\site-packages (from tiktoken->openai-whisper==20240930) (2.32.3)\n",
      "Collecting filelock (from torch->openai-whisper==20240930)\n",
      "  Using cached filelock-3.16.1-py3-none-any.whl.metadata (2.9 kB)\n",
      "Collecting typing-extensions>=4.8.0 (from torch->openai-whisper==20240930)\n",
      "  Using cached typing_extensions-4.12.2-py3-none-any.whl.metadata (3.0 kB)\n",
      "Collecting sympy (from torch->openai-whisper==20240930)\n",
      "  Using cached sympy-1.13.3-py3-none-any.whl.metadata (12 kB)\n",
      "Collecting networkx (from torch->openai-whisper==20240930)\n",
      "  Using cached networkx-3.4.1-py3-none-any.whl.metadata (6.3 kB)\n",
      "Collecting jinja2 (from torch->openai-whisper==20240930)\n",
      "  Using cached jinja2-3.1.4-py3-none-any.whl.metadata (2.6 kB)\n",
      "Collecting fsspec (from torch->openai-whisper==20240930)\n",
      "  Using cached fsspec-2024.9.0-py3-none-any.whl.metadata (11 kB)\n",
      "Collecting setuptools (from torch->openai-whisper==20240930)\n",
      "  Using cached setuptools-75.2.0-py3-none-any.whl.metadata (6.9 kB)\n",
      "Requirement already satisfied: colorama in d:\\gen ai\\myenv1\\lib\\site-packages (from tqdm->openai-whisper==20240930) (0.4.6)\n",
      "Requirement already satisfied: charset-normalizer<4,>=2 in d:\\gen ai\\myenv1\\lib\\site-packages (from requests>=2.26.0->tiktoken->openai-whisper==20240930) (3.4.0)\n",
      "Requirement already satisfied: idna<4,>=2.5 in d:\\gen ai\\myenv1\\lib\\site-packages (from requests>=2.26.0->tiktoken->openai-whisper==20240930) (3.10)\n",
      "Requirement already satisfied: urllib3<3,>=1.21.1 in d:\\gen ai\\myenv1\\lib\\site-packages (from requests>=2.26.0->tiktoken->openai-whisper==20240930) (2.2.3)\n",
      "Requirement already satisfied: certifi>=2017.4.17 in d:\\gen ai\\myenv1\\lib\\site-packages (from requests>=2.26.0->tiktoken->openai-whisper==20240930) (2024.8.30)\n",
      "Collecting MarkupSafe>=2.0 (from jinja2->torch->openai-whisper==20240930)\n",
      "  Downloading MarkupSafe-3.0.1-cp312-cp312-win_amd64.whl.metadata (4.1 kB)\n",
      "Collecting mpmath<1.4,>=1.1.0 (from sympy->torch->openai-whisper==20240930)\n",
      "  Using cached mpmath-1.3.0-py3-none-any.whl.metadata (8.6 kB)\n",
      "Using cached more_itertools-10.5.0-py3-none-any.whl (60 kB)\n",
      "Using cached numba-0.60.0-cp312-cp312-win_amd64.whl (2.7 MB)\n",
      "Using cached numpy-2.0.2-cp312-cp312-win_amd64.whl (15.6 MB)\n",
      "Using cached tiktoken-0.8.0-cp312-cp312-win_amd64.whl (883 kB)\n",
      "Using cached torch-2.4.1-cp312-cp312-win_amd64.whl (199.4 MB)\n",
      "Using cached tqdm-4.66.5-py3-none-any.whl (78 kB)\n",
      "Using cached llvmlite-0.43.0-cp312-cp312-win_amd64.whl (28.1 MB)\n",
      "Using cached regex-2024.9.11-cp312-cp312-win_amd64.whl (273 kB)\n",
      "Using cached typing_extensions-4.12.2-py3-none-any.whl (37 kB)\n",
      "Using cached filelock-3.16.1-py3-none-any.whl (16 kB)\n",
      "Using cached fsspec-2024.9.0-py3-none-any.whl (179 kB)\n",
      "Using cached jinja2-3.1.4-py3-none-any.whl (133 kB)\n",
      "Using cached networkx-3.4.1-py3-none-any.whl (1.7 MB)\n",
      "Using cached setuptools-75.2.0-py3-none-any.whl (1.2 MB)\n",
      "Using cached sympy-1.13.3-py3-none-any.whl (6.2 MB)\n",
      "Downloading MarkupSafe-3.0.1-cp312-cp312-win_amd64.whl (15 kB)\n",
      "Using cached mpmath-1.3.0-py3-none-any.whl (536 kB)\n",
      "Building wheels for collected packages: openai-whisper\n",
      "  Building wheel for openai-whisper (pyproject.toml): started\n",
      "  Building wheel for openai-whisper (pyproject.toml): finished with status 'done'\n",
      "  Created wheel for openai-whisper: filename=openai_whisper-20240930-py3-none-any.whl size=812666 sha256=c24027cb02145ce12bc2cdfa70b5b2758094a8d912a98494e3b558a365204cb7\n",
      "  Stored in directory: C:\\Users\\hp\\AppData\\Local\\Temp\\pip-ephem-wheel-cache-hzjlecsh\\wheels\\c3\\03\\25\\5e0ba78bc27a3a089f137c9f1d92fdfce16d06996c071a016c\n",
      "Successfully built openai-whisper\n",
      "Installing collected packages: mpmath, typing-extensions, tqdm, sympy, setuptools, regex, numpy, networkx, more-itertools, MarkupSafe, llvmlite, fsspec, filelock, tiktoken, numba, jinja2, torch, openai-whisper\n",
      "  Attempting uninstall: numpy\n",
      "    Found existing installation: numpy 2.1.2\n",
      "    Uninstalling numpy-2.1.2:\n",
      "      Successfully uninstalled numpy-2.1.2\n",
      "Successfully installed MarkupSafe-3.0.1 filelock-3.16.1 fsspec-2024.9.0 jinja2-3.1.4 llvmlite-0.43.0 more-itertools-10.5.0 mpmath-1.3.0 networkx-3.4.1 numba-0.60.0 numpy-2.0.2 openai-whisper-20240930 regex-2024.9.11 setuptools-75.2.0 sympy-1.13.3 tiktoken-0.8.0 torch-2.4.1 tqdm-4.66.5 typing-extensions-4.12.2\n",
      "Note: you may need to restart the kernel to use updated packages.\n"
     ]
    },
    {
     "name": "stderr",
     "output_type": "stream",
     "text": [
      "  Running command git clone --filter=blob:none --quiet https://github.com/openai/whisper.git 'C:\\Users\\hp\\AppData\\Local\\Temp\\pip-req-build-cz75k9ej'\n"
     ]
    }
   ],
   "source": [
    "%pip install git+https://github.com/openai/whisper.git\n"
   ]
  },
  {
   "cell_type": "code",
   "execution_count": 15,
   "metadata": {},
   "outputs": [],
   "source": [
    "import whisper \n",
    "import torch "
   ]
  },
  {
   "cell_type": "code",
   "execution_count": 16,
   "metadata": {},
   "outputs": [],
   "source": [
    "class AudioTranscriber:\n",
    "    def __init__(self, input_folder):\n",
    "        self.input_folder = os.path.abspath(os.path.join(os.getcwd(), input_folder))\n",
    "        self.whisper_model = None\n",
    "        self.transcriptions_dict = {}\n",
    "\n",
    "    def transcribe_audio(self, audio_file):\n",
    "        try:\n",
    "            if not os.path.exists(audio_file):\n",
    "                print(f\"Audio file not found: {audio_file}\")\n",
    "                return None\n",
    "\n",
    "            file_size = os.path.getsize(audio_file)\n",
    "            if file_size == 0:\n",
    "                print(f\"Audio file is empty: {audio_file}\")\n",
    "                return None\n",
    "\n",
    "            transcription = self.whisper_model.transcribe(audio_file)\n",
    "            return transcription[\"text\"]\n",
    "        except Exception as e:\n",
    "            print(f\"Error in transcribe_audio: {str(e)}\")\n",
    "            return None\n",
    "\n",
    "    def transcribe_all_audios(self, audio_files_dict):\n",
    "        for url, audio_path in audio_files_dict.items():\n",
    "            if not audio_path.endswith('.mp3'):\n",
    "                print(f\"Skipping non-mp3 file: {audio_path}\")\n",
    "                continue\n",
    "\n",
    "            transcription = self.transcribe_audio(audio_path)\n",
    "\n",
    "            if transcription is not None:\n",
    "                \n",
    "                self.transcriptions_dict[url] = {\n",
    "                    'url': url,\n",
    "                    'audio_path': audio_path,\n",
    "                    'transcription': transcription\n",
    "                }\n",
    "            else:\n",
    "                print(f\"Failed to transcribe audio: {audio_path}\")\n",
    "\n",
    "        return self.transcriptions_dict"
   ]
  },
  {
   "cell_type": "code",
   "execution_count": 17,
   "metadata": {},
   "outputs": [
    {
     "name": "stderr",
     "output_type": "stream",
     "text": [
      "100%|███████████████████████████████████████| 461M/461M [03:08<00:00, 2.56MiB/s]\n",
      "d:\\GEN AI\\myenv1\\Lib\\site-packages\\whisper\\__init__.py:150: FutureWarning: You are using `torch.load` with `weights_only=False` (the current default value), which uses the default pickle module implicitly. It is possible to construct malicious pickle data which will execute arbitrary code during unpickling (See https://github.com/pytorch/pytorch/blob/main/SECURITY.md#untrusted-models for more details). In a future release, the default value for `weights_only` will be flipped to `True`. This limits the functions that could be executed during unpickling. Arbitrary objects will no longer be allowed to be loaded via this mode unless they are explicitly allowlisted by the user via `torch.serialization.add_safe_globals`. We recommend you start setting `weights_only=True` for any use case where you don't have full control of the loaded file. Please open an issue on GitHub for any issues related to this experimental feature.\n",
      "  checkpoint = torch.load(fp, map_location=device)\n"
     ]
    }
   ],
   "source": [
    "\n",
    "device = \"cuda\" if torch.cuda.is_available() else \"cpu\"\n",
    "\n",
    "\n",
    "whisper_model = whisper.load_model(\"small\", device=device)\n"
   ]
  },
  {
   "cell_type": "code",
   "execution_count": 18,
   "metadata": {},
   "outputs": [
    {
     "name": "stderr",
     "output_type": "stream",
     "text": [
      "d:\\GEN AI\\myenv1\\Lib\\site-packages\\whisper\\transcribe.py:126: UserWarning: FP16 is not supported on CPU; using FP32 instead\n",
      "  warnings.warn(\"FP16 is not supported on CPU; using FP32 instead\")\n"
     ]
    },
    {
     "name": "stdout",
     "output_type": "stream",
     "text": [
      "URL: https://www.youtube.com/watch?v=qP1JKWBBy80\n",
      "Audio file: C:\\GEN AI\\myenv1\\MULTIMODAL_RAG\\audio\\How to Invest with your Conscience： ESG Investing.mp3\n",
      "Transcription:  It's your money, why not invest it in something that's truly rooted in your values? Hey there, welc...\n",
      "---\n",
      "URL: https://www.youtube.com/watch?v=_p58cZIHDG4\n",
      "Audio file: C:\\GEN AI\\myenv1\\MULTIMODAL_RAG\\audio\\ESG investing is 'a complete fraud'： Venture capitalist Chamath Palihapitiya.mp3\n",
      "Transcription:  ESG, real or marketing? It's a complete fraud. Complete fraud. It's so ridiculous. Governance has b...\n",
      "---\n"
     ]
    }
   ],
   "source": [
    "# Initialize the AudioTranscriber\n",
    "transcriber = AudioTranscriber(input_folder=\"C://GEN AI//myenv1//MULTIMODAL_RAG//audio\")\n",
    "\n",
    "# Initialize your Whisper model\n",
    "transcriber.whisper_model = whisper_model\n",
    "\n",
    "# Transcribe all audios in the input folder\n",
    "transcriptions_dict = transcriber.transcribe_all_audios(audio_files)\n",
    "\n",
    "for url, data in transcriptions_dict.items():\n",
    "    print(f\"URL: {url}\")\n",
    "    print(f\"Audio file: {data['audio_path']}\")\n",
    "    print(f\"Transcription: {data['transcription'][:100]}...\") \n",
    "    print(\"---\")"
   ]
  },
  {
   "cell_type": "code",
   "execution_count": 25,
   "metadata": {},
   "outputs": [
    {
     "data": {
      "text/plain": [
       "{'https://www.youtube.com/watch?v=qP1JKWBBy80': {'url': 'https://www.youtube.com/watch?v=qP1JKWBBy80',\n",
       "  'audio_path': 'C:\\\\GEN AI\\\\myenv1\\\\MULTIMODAL_RAG\\\\audio\\\\How to Invest with your Conscience： ESG Investing.mp3',\n",
       "  'transcription': \" It's your money, why not invest it in something that's truly rooted in your values? Hey there, welcome back to my channel. It's another day of interviewing John Mullet, my colleague here at Pleasant Wealth. Thanks for being here again, John. Thanks Liz, my pleasure. It's great to be able to have some of these conversations about what we talk about here in the office here for you so you can make some good decisions with your investments. So in today's video we're going to be talking about ESG investing and you may not have heard that term but stay tuned because that's what we're going to talk about. Before we get into that, don't forget to subscribe to this channel for regular Pleasant Financial Converses. Alright John, let's talk about ESG investing. What does ESG even stand for? So ESG stands for Environmental Social Governance. Environmental is a pretty self-explanatory, anything to do with being a good steward of the environment, natural resources, sustainability. And social has to do with social causes, money, the impact of money in places where maybe it's hard to come by capital for certain groups or minorities, things like that, social causes, the impact there. And then governance has to do with corporate behavior and equal opportunity and the way they treat their employees, things like that. So as I've seen ESG, ESG investing has become more and more popular over the years. It's been the dog of the past for people who wanted to invest with their conscience because it was so expensive and they wouldn't get the right returns. So why would somebody want to invest ESG? First for the impact of their dollars being invested in working and causes for good so that, for example, in lending, if certain areas, geographically speaking, or people groups, ethnically or otherwise, have a hard time accessing capital and you can find a way to successfully lend in those areas to promote business and growth and those kind of things, that is a very positive impact in a way of helping others through business and investing. I noticed within my generation, there's such a negative thought about capitalism. But the fact is that capitalism can be used for good. So just through what John is saying about providing lending opportunities in areas that don't have access to capital or to ethnic groups or certain groups of society that don't have the same opportunities as others, ESG investing is the good side of capitalism. Agree? Yes, absolutely. So let's go back, John. I did say something about expenses and how the old baggage of ESG investing is that it's just too expensive and it takes away from their terms. How has that changed in the last 10 years? There seems to be an increase in new methodology in the screening and the way companies or investment companies are finding companies to invest in or projects or whatever it may be. And some of the new methodologies include rather than just defensive screening saying, I won't invest in tobacco or alcohol or weapons or whatever it might be and whatever cause you believe in, it's out there. But with that, there's a more proactive choosing to invest in excellence. And because of that, yes, it's often still a little more expensive, but with that, I feel like there's a true opportunity for differentiation, like how a company treats its employees, how it relates to its local community, how it treats the supply chain and their customers and so on. Yeah, I mean, even in this year, a year of COVID where our world was thrown upside down, any company that is willing to pay attention to how well they're treating their employees, how well they're treating their suppliers are going to fare better in that type of environment because they have created the relationships and the sustainability in the process that they're not going to have the same upheaval as a company that doesn't pay attention to that. And so from that perspective, here at Pleasant Wealth, we love ESG investing. If that's something that matters to you, we want to find options for you with that. I mean, corporate America or international that are meeting these standards of ESG, environmental standards, social standards and governance, that they are more nimble long term and there will be good growth from them long term. Good corporate behavior towards their employees leads to more loyalty and longer tenured employees, less turnover. That leads to more efficiency in how a company operates. If money speaks, if behavior is going to kind of follow the money in a way, in a sense, because if money is going elsewhere because of a company's bad behavior, it can influence that company to change their behavior. Yeah, and we love companies changing their own behaviors to becoming better stewards of this fine world that we live in. Absolutely. All right. Thanks for joining us today, John, for the conversation about ESG investing. It's been a pleasure to have you here on my channel, Pleasant Financial Conversations. For you, if you are approaching retirement and wanting to make sure that your investments are meeting the values and standards that you have as you approach the world, reach out to us. We'd love to help you find some solutions for your investments. You can find us at www.pleasantwealth.com to start that conversation. Until next time, friends, you take care.\"},\n",
       " 'https://www.youtube.com/watch?v=_p58cZIHDG4': {'url': 'https://www.youtube.com/watch?v=_p58cZIHDG4',\n",
       "  'audio_path': \"C:\\\\GEN AI\\\\myenv1\\\\MULTIMODAL_RAG\\\\audio\\\\ESG investing is 'a complete fraud'： Venture capitalist Chamath Palihapitiya.mp3\",\n",
       "  'transcription': \" ESG, real or marketing? It's a complete fraud. Complete fraud. It's so ridiculous. Governance has been addressed. That's useful. But this idea that you're going to get a stamp that says, oh, listen, my supplier, I've offset their carbon credits, and now I understand my imp. It's a joke. It's jargon. And I think what people are doing right now is using it as a way to, for example, if you can paint yourself as ESG, in Europe, you can essentially borrow money from the ECB at negative rates. I'm going to come over and give you a massage now. It's a carry-trace. He doesn't want you touching them. We're on a virus. Go, Chamat. Go, Chamat. Just a little bit. But I personally believe in climate change. I think we need to do something. And so the problem with ESG is it's going to take years for this slump. But when you hear JP Morgan yesterday say that they're not going to finance fossil fuels, or you hear Ed Bastian at Delta say he's going to spend $100 million of real money, by the way, effectively buying carbon offsets and investing in new biofuels every year, you say. Two things. JP Morgan, by saying what they said, will be able to borrow billions of dollars from the ECB at negative rates. You think that's what that is? It's obviously what it is. It doesn't have to work. They don't need to do anything. They are now getting free money from Europe. So basically being able to say this. And you don't think they would get that money otherwise? No, because Europe basically has this condition where you can issue green bonds, and you have all of this checks and balances. So that's one thing. It's going to be very important for you to really be able to diligence the supply chain all the way down to the supplier and the supplier supplier. So we used to have Microsoft to say, here you do, for example. These are useful statements. It's great marketing. But again, it's a lot of sizzle, no steak. I think that what we need to do is invest in actual companies that can go and count, and can go and legitimize the actual impact that companies have so that you can do the right amount of carbon offsets. And then you have to have a legitimate exchange where you can actually trade them. So if you really believe in climate change, you've got to do some hard work now. By the way, Virgin Galactic is going to be throwing off a lot of carbon. Do you buy offsets? Galactica. Yeah, we have a plan to get to sustainability. You do? Why? It's important. He really, really important. He just said he believes it.\"}}"
      ]
     },
     "execution_count": 25,
     "metadata": {},
     "output_type": "execute_result"
    }
   ],
   "source": [
    "transcriptions_dict"
   ]
  },
  {
   "cell_type": "code",
   "execution_count": 40,
   "metadata": {},
   "outputs": [
    {
     "name": "stdout",
     "output_type": "stream",
     "text": [
      " It's your money, why not invest it in something that's truly rooted in your values? Hey there, welcome back to my channel. It's another day of interviewing John Mullet, my colleague here at Pleasant Wealth. Thanks for being here again, John. Thanks Liz, my pleasure. It's great to be able to have some of these conversations about what we talk about here in the office here for you so you can make some good decisions with your investments. So in today's video we're going to be talking about ESG investing and you may not have heard that term but stay tuned because that's what we're going to talk about. Before we get into that, don't forget to subscribe to this channel for regular Pleasant Financial Converses. Alright John, let's talk about ESG investing. What does ESG even stand for? So ESG stands for Environmental Social Governance. Environmental is a pretty self-explanatory, anything to do with being a good steward of the environment, natural resources, sustainability. And social has to do with social causes, money, the impact of money in places where maybe it's hard to come by capital for certain groups or minorities, things like that, social causes, the impact there. And then governance has to do with corporate behavior and equal opportunity and the way they treat their employees, things like that. So as I've seen ESG, ESG investing has become more and more popular over the years. It's been the dog of the past for people who wanted to invest with their conscience because it was so expensive and they wouldn't get the right returns. So why would somebody want to invest ESG? First for the impact of their dollars being invested in working and causes for good so that, for example, in lending, if certain areas, geographically speaking, or people groups, ethnically or otherwise, have a hard time accessing capital and you can find a way to successfully lend in those areas to promote business and growth and those kind of things, that is a very positive impact in a way of helping others through business and investing. I noticed within my generation, there's such a negative thought about capitalism. But the fact is that capitalism can be used for good. So just through what John is saying about providing lending opportunities in areas that don't have access to capital or to ethnic groups or certain groups of society that don't have the same opportunities as others, ESG investing is the good side of capitalism. Agree? Yes, absolutely. So let's go back, John. I did say something about expenses and how the old baggage of ESG investing is that it's just too expensive and it takes away from their terms. How has that changed in the last 10 years? There seems to be an increase in new methodology in the screening and the way companies or investment companies are finding companies to invest in or projects or whatever it may be. And some of the new methodologies include rather than just defensive screening saying, I won't invest in tobacco or alcohol or weapons or whatever it might be and whatever cause you believe in, it's out there. But with that, there's a more proactive choosing to invest in excellence. And because of that, yes, it's often still a little more expensive, but with that, I feel like there's a true opportunity for differentiation, like how a company treats its employees, how it relates to its local community, how it treats the supply chain and their customers and so on. Yeah, I mean, even in this year, a year of COVID where our world was thrown upside down, any company that is willing to pay attention to how well they're treating their employees, how well they're treating their suppliers are going to fare better in that type of environment because they have created the relationships and the sustainability in the process that they're not going to have the same upheaval as a company that doesn't pay attention to that. And so from that perspective, here at Pleasant Wealth, we love ESG investing. If that's something that matters to you, we want to find options for you with that. I mean, corporate America or international that are meeting these standards of ESG, environmental standards, social standards and governance, that they are more nimble long term and there will be good growth from them long term. Good corporate behavior towards their employees leads to more loyalty and longer tenured employees, less turnover. That leads to more efficiency in how a company operates. If money speaks, if behavior is going to kind of follow the money in a way, in a sense, because if money is going elsewhere because of a company's bad behavior, it can influence that company to change their behavior. Yeah, and we love companies changing their own behaviors to becoming better stewards of this fine world that we live in. Absolutely. All right. Thanks for joining us today, John, for the conversation about ESG investing. It's been a pleasure to have you here on my channel, Pleasant Financial Conversations. For you, if you are approaching retirement and wanting to make sure that your investments are meeting the values and standards that you have as you approach the world, reach out to us. We'd love to help you find some solutions for your investments. You can find us at www.pleasantwealth.com to start that conversation. Until next time, friends, you take care.\n"
     ]
    }
   ],
   "source": [
    "first_item = next(iter(transcriptions_dict.items()))\n",
    "first_transcription = first_item[1]['transcription']\n",
    "print(first_transcription)\n"
   ]
  },
  {
   "cell_type": "code",
   "execution_count": 38,
   "metadata": {},
   "outputs": [
    {
     "name": "stdout",
     "output_type": "stream",
     "text": [
      " It's your money, why not invest it in something that's truly rooted in your\n",
      "values? Hey there, welcome back to my channel. It's another day of interviewing\n",
      "John Mullet, my colleague here at Pleasant Wealth. Thanks for being here again,\n",
      "John. Thanks Liz, my pleasure. It's great to be able to have some of these\n",
      "conversations about what we talk about here in the office here for you so you\n",
      "can make some good decisions with your investments. So in today's video we're\n",
      "going to be talking about ESG investing and you may not have heard that term but\n",
      "stay tuned because that's what we're going to talk about. Before we get into\n",
      "that, don't forget to subscribe to this channel for regular Pleasant Financial\n",
      "Converses. Alright John, let's talk about ESG investing. What does ESG even\n",
      "stand for? So ESG stands for Environmental Social Governance. Environmental is a\n",
      "pretty self-explanatory, anything to do with being a good steward of the\n",
      "environment, natural resources, sustainability. And social has to do with social\n",
      "causes, money, the impact of money in places where maybe it's hard to come by\n",
      "capital for certain groups or minorities, things like that, social causes, the\n",
      "impact there. And then governance has to do with corporate behavior and equal\n",
      "opportunity and the way they treat their employees, things like that. So as I've\n",
      "seen ESG, ESG investing has become more and more popular over the years. It's\n",
      "been the dog of the past for people who wanted to invest with their conscience\n",
      "because it was so expensive and they wouldn't get the right returns. So why\n",
      "would somebody want to invest ESG? First for the impact of their dollars being\n",
      "invested in working and causes for good so that, for example, in lending, if\n",
      "certain areas, geographically speaking, or people groups, ethnically or\n",
      "otherwise, have a hard time accessing capital and you can find a way to\n",
      "successfully lend in those areas to promote business and growth and those kind\n",
      "of things, that is a very positive impact in a way of helping others through\n",
      "business and investing. I noticed within my generation, there's such a negative\n",
      "thought about capitalism. But the fact is that capitalism can be used for good.\n",
      "So just through what John is saying about providing lending opportunities in\n",
      "areas that don't have access to capital or to ethnic groups or certain groups of\n",
      "society that don't have the same opportunities as others, ESG investing is the\n",
      "good side of capitalism. Agree? Yes, absolutely. So let's go back, John. I did\n",
      "say something about expenses and how the old baggage of ESG investing is that\n",
      "it's just too expensive and it takes away from their terms. How has that changed\n",
      "in the last 10 years? There seems to be an increase in new methodology in the\n",
      "screening and the way companies or investment companies are finding companies to\n",
      "invest in or projects or whatever it may be. And some of the new methodologies\n",
      "include rather than just defensive screening saying, I won't invest in tobacco\n",
      "or alcohol or weapons or whatever it might be and whatever cause you believe in,\n",
      "it's out there. But with that, there's a more proactive choosing to invest in\n",
      "excellence. And because of that, yes, it's often still a little more expensive,\n",
      "but with that, I feel like there's a true opportunity for differentiation, like\n",
      "how a company treats its employees, how it relates to its local community, how\n",
      "it treats the supply chain and their customers and so on. Yeah, I mean, even in\n",
      "this year, a year of COVID where our world was thrown upside down, any company\n",
      "that is willing to pay attention to how well they're treating their employees,\n",
      "how well they're treating their suppliers are going to fare better in that type\n",
      "of environment because they have created the relationships and the\n",
      "sustainability in the process that they're not going to have the same upheaval\n",
      "as a company that doesn't pay attention to that. And so from that perspective,\n",
      "here at Pleasant Wealth, we love ESG investing. If that's something that matters\n",
      "to you, we want to find options for you with that. I mean, corporate America or\n",
      "international that are meeting these standards of ESG, environmental standards,\n",
      "social standards and governance, that they are more nimble long term and there\n",
      "will be good growth from them long term. Good corporate behavior towards their\n",
      "employees leads to more loyalty and longer tenured employees, less turnover.\n",
      "That leads to more efficiency in how a company operates. If money speaks, if\n",
      "behavior is going to kind of follow the money in a way, in a sense, because if\n",
      "money is going elsewhere because of a company's bad behavior, it can influence\n",
      "that company to change their behavior. Yeah, and we love companies changing\n",
      "their own behaviors to becoming better stewards of this fine world that we live\n",
      "in. Absolutely. All right. Thanks for joining us today, John, for the\n",
      "conversation about ESG investing. It's been a pleasure to have you here on my\n",
      "channel, Pleasant Financial Conversations. For you, if you are approaching\n",
      "retirement and wanting to make sure that your investments are meeting the values\n",
      "and standards that you have as you approach the world, reach out to us. We'd\n",
      "love to help you find some solutions for your investments. You can find us at\n",
      "www.pleasantwealth.com to start that conversation. Until next time, friends, you\n",
      "take care.\n"
     ]
    }
   ],
   "source": [
    "import textwrap\n",
    "wrapped_transcription = textwrap.fill(first_transcription, width=80)\n",
    "print(wrapped_transcription)\n"
   ]
  },
  {
   "cell_type": "code",
   "execution_count": 27,
   "metadata": {},
   "outputs": [
    {
     "name": "stdout",
     "output_type": "stream",
     "text": [
      "[\n",
      "  {\n",
      "    \"url\": \"https://www.youtube.com/watch?v=qP1JKWBBy80\",\n",
      "    \"audio_path\": \"C:\\\\GEN AI\\\\myenv1\\\\MULTIMODAL_RAG\\\\audio\\\\How to Invest with your Conscience\\uff1a ESG Investing.mp3\",\n",
      "    \"transcription\": \" It's your money, why not invest it in something that's truly rooted in your values? Hey there, welcome back to my channel. It's another day of interviewing John Mullet, my colleague here at Pleasant Wealth. Thanks for being here again, John. Thanks Liz, my pleasure. It's great to be able to have some of these conversations about what we talk about here in the office here for you so you can make some good decisions with your investments. So in today's video we're going to be talking about ESG investing and you may not have heard that term but stay tuned because that's what we're going to talk about. Before we get into that, don't forget to subscribe to this channel for regular Pleasant Financial Converses. Alright John, let's talk about ESG investing. What does ESG even stand for? So ESG stands for Environmental Social Governance. Environmental is a pretty self-explanatory, anything to do with being a good steward of the environment, natural resources, sustainability. And social has to do with social causes, money, the impact of money in places where maybe it's hard to come by capital for certain groups or minorities, things like that, social causes, the impact there. And then governance has to do with corporate behavior and equal opportunity and the way they treat their employees, things like that. So as I've seen ESG, ESG investing has become more and more popular over the years. It's been the dog of the past for people who wanted to invest with their conscience because it was so expensive and they wouldn't get the right returns. So why would somebody want to invest ESG? First for the impact of their dollars being invested in working and causes for good so that, for example, in lending, if certain areas, geographically speaking, or people groups, ethnically or otherwise, have a hard time accessing capital and you can find a way to successfully lend in those areas to promote business and growth and those kind of things, that is a very positive impact in a way of helping others through business and investing. I noticed within my generation, there's such a negative thought about capitalism. But the fact is that capitalism can be used for good. So just through what John is saying about providing lending opportunities in areas that don't have access to capital or to ethnic groups or certain groups of society that don't have the same opportunities as others, ESG investing is the good side of capitalism. Agree? Yes, absolutely. So let's go back, John. I did say something about expenses and how the old baggage of ESG investing is that it's just too expensive and it takes away from their terms. How has that changed in the last 10 years? There seems to be an increase in new methodology in the screening and the way companies or investment companies are finding companies to invest in or projects or whatever it may be. And some of the new methodologies include rather than just defensive screening saying, I won't invest in tobacco or alcohol or weapons or whatever it might be and whatever cause you believe in, it's out there. But with that, there's a more proactive choosing to invest in excellence. And because of that, yes, it's often still a little more expensive, but with that, I feel like there's a true opportunity for differentiation, like how a company treats its employees, how it relates to its local community, how it treats the supply chain and their customers and so on. Yeah, I mean, even in this year, a year of COVID where our world was thrown upside down, any company that is willing to pay attention to how well they're treating their employees, how well they're treating their suppliers are going to fare better in that type of environment because they have created the relationships and the sustainability in the process that they're not going to have the same upheaval as a company that doesn't pay attention to that. And so from that perspective, here at Pleasant Wealth, we love ESG investing. If that's something that matters to you, we want to find options for you with that. I mean, corporate America or international that are meeting these standards of ESG, environmental standards, social standards and governance, that they are more nimble long term and there will be good growth from them long term. Good corporate behavior towards their employees leads to more loyalty and longer tenured employees, less turnover. That leads to more efficiency in how a company operates. If money speaks, if behavior is going to kind of follow the money in a way, in a sense, because if money is going elsewhere because of a company's bad behavior, it can influence that company to change their behavior. Yeah, and we love companies changing their own behaviors to becoming better stewards of this fine world that we live in. Absolutely. All right. Thanks for joining us today, John, for the conversation about ESG investing. It's been a pleasure to have you here on my channel, Pleasant Financial Conversations. For you, if you are approaching retirement and wanting to make sure that your investments are meeting the values and standards that you have as you approach the world, reach out to us. We'd love to help you find some solutions for your investments. You can find us at www.pleasantwealth.com to start that conversation. Until next time, friends, you take care.\"\n",
      "  },\n",
      "  {\n",
      "    \"url\": \"https://www.youtube.com/watch?v=_p58cZIHDG4\",\n",
      "    \"audio_path\": \"C:\\\\GEN AI\\\\myenv1\\\\MULTIMODAL_RAG\\\\audio\\\\ESG investing is 'a complete fraud'\\uff1a Venture capitalist Chamath Palihapitiya.mp3\",\n",
      "    \"transcription\": \" ESG, real or marketing? It's a complete fraud. Complete fraud. It's so ridiculous. Governance has been addressed. That's useful. But this idea that you're going to get a stamp that says, oh, listen, my supplier, I've offset their carbon credits, and now I understand my imp. It's a joke. It's jargon. And I think what people are doing right now is using it as a way to, for example, if you can paint yourself as ESG, in Europe, you can essentially borrow money from the ECB at negative rates. I'm going to come over and give you a massage now. It's a carry-trace. He doesn't want you touching them. We're on a virus. Go, Chamat. Go, Chamat. Just a little bit. But I personally believe in climate change. I think we need to do something. And so the problem with ESG is it's going to take years for this slump. But when you hear JP Morgan yesterday say that they're not going to finance fossil fuels, or you hear Ed Bastian at Delta say he's going to spend $100 million of real money, by the way, effectively buying carbon offsets and investing in new biofuels every year, you say. Two things. JP Morgan, by saying what they said, will be able to borrow billions of dollars from the ECB at negative rates. You think that's what that is? It's obviously what it is. It doesn't have to work. They don't need to do anything. They are now getting free money from Europe. So basically being able to say this. And you don't think they would get that money otherwise? No, because Europe basically has this condition where you can issue green bonds, and you have all of this checks and balances. So that's one thing. It's going to be very important for you to really be able to diligence the supply chain all the way down to the supplier and the supplier supplier. So we used to have Microsoft to say, here you do, for example. These are useful statements. It's great marketing. But again, it's a lot of sizzle, no steak. I think that what we need to do is invest in actual companies that can go and count, and can go and legitimize the actual impact that companies have so that you can do the right amount of carbon offsets. And then you have to have a legitimate exchange where you can actually trade them. So if you really believe in climate change, you've got to do some hard work now. By the way, Virgin Galactic is going to be throwing off a lot of carbon. Do you buy offsets? Galactica. Yeah, we have a plan to get to sustainability. You do? Why? It's important. He really, really important. He just said he believes it.\"\n",
      "  }\n",
      "]\n"
     ]
    }
   ],
   "source": [
    "import json\n",
    "\n",
    "audio_data = [\n",
    "    {\n",
    "        \"url\": value[\"url\"],\n",
    "        \"audio_path\": value[\"audio_path\"],\n",
    "        \"transcription\": value[\"transcription\"]\n",
    "    }\n",
    "    for value in transcriptions_dict.values()\n",
    "]\n",
    "\n",
    "\n",
    "print(json.dumps(audio_data, indent=2))"
   ]
  },
  {
   "cell_type": "code",
   "execution_count": null,
   "metadata": {},
   "outputs": [],
   "source": []
  }
 ],
 "metadata": {
  "kernelspec": {
   "display_name": "myenv1",
   "language": "python",
   "name": "python3"
  },
  "language_info": {
   "codemirror_mode": {
    "name": "ipython",
    "version": 3
   },
   "file_extension": ".py",
   "mimetype": "text/x-python",
   "name": "python",
   "nbconvert_exporter": "python",
   "pygments_lexer": "ipython3",
   "version": "3.12.5"
  }
 },
 "nbformat": 4,
 "nbformat_minor": 2
}
